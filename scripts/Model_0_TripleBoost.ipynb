{
 "cells": [
  {
   "cell_type": "markdown",
   "metadata": {},
   "source": [
    "# Model 0: Triple Boosting\n",
    "Model 0v0 will explore the utility of using three separate boosting algorithms (XGBoost, Light GBM, and CatBoost) and averaging their final results. The pros and cons of these three boosting algorithms are detailed in this blog post: https://towardsdatascience.com/catboost-vs-light-gbm-vs-xgboost-5f93620723db. Since each boosting algorithm approaches feature splitting and categorical encoding in a unique way, I hope that merging all three methods will result in a better-generalized model."
   ]
  },
  {
   "cell_type": "code",
   "execution_count": null,
   "metadata": {},
   "outputs": [],
   "source": []
  }
 ],
 "metadata": {
  "kernelspec": {
   "display_name": "Python 2",
   "language": "python",
   "name": "python2"
  },
  "language_info": {
   "codemirror_mode": {
    "name": "ipython",
    "version": 2
   },
   "file_extension": ".py",
   "mimetype": "text/x-python",
   "name": "python",
   "nbconvert_exporter": "python",
   "pygments_lexer": "ipython2",
   "version": "2.7.14"
  }
 },
 "nbformat": 4,
 "nbformat_minor": 2
}
