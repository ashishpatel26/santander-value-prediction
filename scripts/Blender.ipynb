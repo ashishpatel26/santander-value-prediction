{
 "cells": [
  {
   "cell_type": "markdown",
   "metadata": {},
   "source": [
    "# Blender\n",
    "This notebook blends my own personal models to attempt to create better-generalized models"
   ]
  },
  {
   "cell_type": "code",
   "execution_count": 1,
   "metadata": {},
   "outputs": [],
   "source": [
    "# Load libraries\n",
    "import numpy as np\n",
    "import pandas as pd\n",
    "\n",
    "import pickle as pkl"
   ]
  },
  {
   "cell_type": "code",
   "execution_count": 2,
   "metadata": {},
   "outputs": [
    {
     "name": "stdout",
     "output_type": "stream",
     "text": [
      "blend_s0_n12_1.38.csv       lgb_0v0_submit_1.44.csv\r\n",
      "encat_0v1_submit_1.40.csv   xgbpipe_0v2_submit_1.39.csv\r\n"
     ]
    }
   ],
   "source": [
    "!ls ../submissions/"
   ]
  },
  {
   "cell_type": "code",
   "execution_count": 3,
   "metadata": {},
   "outputs": [],
   "source": [
    "submit_path = '../submissions/'\n",
    "path_0v0 = submit_path + 'lgb_0v0_submit_1.44.csv'\n",
    "path_0v1 = submit_path + 'encat_0v1_submit_1.40.csv'\n",
    "path_0v2 = submit_path + 'xgbpipe_0v2_submit_1.39.csv'"
   ]
  },
  {
   "cell_type": "code",
   "execution_count": 4,
   "metadata": {},
   "outputs": [],
   "source": [
    "submit_0v0 = pd.read_csv(path_0v0)\n",
    "submit_0v1 = pd.read_csv(path_0v1)\n",
    "submit_0v2 = pd.read_csv(path_0v2)"
   ]
  },
  {
   "cell_type": "code",
   "execution_count": 5,
   "metadata": {},
   "outputs": [],
   "source": [
    "mean_submit = np.mean([submit_0v0.target.values, submit_0v1.target.values, submit_0v2.target.values], axis=0)"
   ]
  },
  {
   "cell_type": "code",
   "execution_count": 6,
   "metadata": {},
   "outputs": [],
   "source": [
    "testidx_path = '../data/test_idx.pkl'\n",
    "with open(testidx_path, 'rb') as handle:\n",
    "    test_idx = pkl.load(handle)"
   ]
  },
  {
   "cell_type": "code",
   "execution_count": 7,
   "metadata": {},
   "outputs": [],
   "source": [
    "submit_path = submit_path + 'blend_s0_n012.csv'\n",
    "submission = pd.DataFrame()\n",
    "submission['ID'] = test_idx\n",
    "submission['target'] = mean_submit\n",
    "submission.to_csv(submit_path, index=False)"
   ]
  },
  {
   "cell_type": "code",
   "execution_count": null,
   "metadata": {},
   "outputs": [],
   "source": []
  }
 ],
 "metadata": {
  "kernelspec": {
   "display_name": "Python 2",
   "language": "python",
   "name": "python2"
  },
  "language_info": {
   "codemirror_mode": {
    "name": "ipython",
    "version": 2
   },
   "file_extension": ".py",
   "mimetype": "text/x-python",
   "name": "python",
   "nbconvert_exporter": "python",
   "pygments_lexer": "ipython2",
   "version": "2.7.14"
  }
 },
 "nbformat": 4,
 "nbformat_minor": 2
}
