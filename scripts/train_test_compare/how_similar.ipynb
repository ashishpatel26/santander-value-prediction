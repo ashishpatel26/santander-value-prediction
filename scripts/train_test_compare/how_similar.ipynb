{
 "cells": [
  {
   "cell_type": "markdown",
   "metadata": {},
   "source": [
    "# Comparing Train and Test Sets\n",
    "An exploration on covariance shift in the Santander Value Prediction datasets"
   ]
  },
  {
   "cell_type": "code",
   "execution_count": 7,
   "metadata": {},
   "outputs": [],
   "source": [
    "# Load libraries:\n",
    "import warnings\n",
    "warnings.filterwarnings('ignore')\n",
    "\n",
    "import numpy as np\n",
    "import pandas as pd\n",
    "import pickle as pkl\n",
    "\n",
    "import time\n",
    "import h5py\n",
    "\n",
    "from catboost import CatBoostClassifier\n",
    "\n",
    "from sklearn.model_selection import KFold"
   ]
  },
  {
   "cell_type": "markdown",
   "metadata": {},
   "source": [
    "## Helper Functions:"
   ]
  },
  {
   "cell_type": "code",
   "execution_count": 2,
   "metadata": {},
   "outputs": [],
   "source": [
    "# Load h5py file\n",
    "def loadh5(fname, dname):\n",
    "    h5f = h5py.File(fname, 'r')\n",
    "    data = h5f[dname][:]\n",
    "    h5f.close()\n",
    "    return data"
   ]
  },
  {
   "cell_type": "code",
   "execution_count": 3,
   "metadata": {},
   "outputs": [],
   "source": [
    "# Load pickle file\n",
    "def loadpickle(fname):\n",
    "    with open(fname, 'rb') as handle:\n",
    "        data = pkl.load(handle)\n",
    "    return data"
   ]
  },
  {
   "cell_type": "code",
   "execution_count": 9,
   "metadata": {},
   "outputs": [
    {
     "name": "stdout",
     "output_type": "stream",
     "text": [
      "Loading Stage 0 vanilla train and test datasets...\n",
      "Loading completed in 1.63192200661 seconds\n"
     ]
    }
   ],
   "source": [
    "# Load data:\n",
    "data_path = '../../data/'\n",
    "train_dname = 'train_s0'\n",
    "test_dname = 'test_s0'\n",
    "f_ext = '_vanilla.h5'\n",
    "\n",
    "load_start = time.time()\n",
    "print 'Loading Stage 0 vanilla train and test datasets...'\n",
    "# Load h5py data\n",
    "train_data = loadh5(data_path + train_dname + f_ext, train_dname)\n",
    "test_data = loadh5(data_path + test_dname + f_ext, test_dname)\n",
    "# Load dataframe indexes\n",
    "train_idx = loadpickle(data_path + 'train_idx.pkl')\n",
    "test_idx = loadpickle(data_path + 'test_idx.pkl')\n",
    "# Load dataframe column names\n",
    "train_cols = loadpickle(data_path + 'train_cols.pkl')\n",
    "test_cols = loadpickle(data_path + 'test_cols.pkl')\n",
    "\n",
    "# Create dataframes\n",
    "train_df = pd.DataFrame(data=train_data, index=train_idx, columns=train_cols)\n",
    "test_df = pd.DataFrame(data=test_data, index=test_idx, columns=test_cols)\n",
    "\n",
    "print 'Loading completed in %s seconds'%(time.time()-load_start)"
   ]
  },
  {
   "cell_type": "code",
   "execution_count": null,
   "metadata": {},
   "outputs": [],
   "source": []
  }
 ],
 "metadata": {
  "kernelspec": {
   "display_name": "Python 2",
   "language": "python",
   "name": "python2"
  },
  "language_info": {
   "codemirror_mode": {
    "name": "ipython",
    "version": 2
   },
   "file_extension": ".py",
   "mimetype": "text/x-python",
   "name": "python",
   "nbconvert_exporter": "python",
   "pygments_lexer": "ipython2",
   "version": "2.7.14"
  }
 },
 "nbformat": 4,
 "nbformat_minor": 2
}
