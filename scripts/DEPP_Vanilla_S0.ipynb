{
 "cells": [
  {
   "cell_type": "markdown",
   "metadata": {},
   "source": [
    "# Stage 0 Data Exploration & Preprocessing (Vanilla)"
   ]
  },
  {
   "cell_type": "markdown",
   "metadata": {},
   "source": [
    "Stage 0 data exploration will aim to yield an introductory understanding of the Santander Value Prediction dataset."
   ]
  },
  {
   "cell_type": "markdown",
   "metadata": {},
   "source": [
    "## Load Libraries:"
   ]
  },
  {
   "cell_type": "code",
   "execution_count": 51,
   "metadata": {},
   "outputs": [],
   "source": [
    "import warnings\n",
    "warnings.filterwarnings('ignore')\n",
    "\n",
    "import numpy as np\n",
    "import pandas as pd\n",
    "import pickle as pkl\n",
    "\n",
    "import matplotlib.pyplot as plt\n",
    "import seaborn as sns\n",
    "\n",
    "import os\n",
    "import pdb\n",
    "import h5py\n",
    "\n",
    "from sklearn.decomposition import PCA"
   ]
  },
  {
   "cell_type": "markdown",
   "metadata": {},
   "source": [
    "## Load the Data:"
   ]
  },
  {
   "cell_type": "code",
   "execution_count": 2,
   "metadata": {},
   "outputs": [],
   "source": [
    "data_path = '../data/'\n",
    "train_df = pd.read_csv(data_path + 'train.csv', index_col='ID')\n",
    "test_df = pd.read_csv(data_path + 'test.csv', index_col='ID')"
   ]
  },
  {
   "cell_type": "code",
   "execution_count": 3,
   "metadata": {},
   "outputs": [
    {
     "name": "stdout",
     "output_type": "stream",
     "text": [
      "Shape of train dataframe: 4459 Rows, 4992 Columns\n",
      "Shape of test dataframe: 49342 Rows, 4991 Columns\n"
     ]
    }
   ],
   "source": [
    "print('Shape of train dataframe: {} Rows, {} Columns'.format(*train_df.shape))\n",
    "print('Shape of test dataframe: {} Rows, {} Columns'.format(*test_df.shape))"
   ]
  },
  {
   "cell_type": "code",
   "execution_count": 4,
   "metadata": {},
   "outputs": [],
   "source": [
    "# Separate the training labels\n",
    "labels = train_df.target\n",
    "train_df.drop(columns=['target'], inplace=True)"
   ]
  },
  {
   "cell_type": "code",
   "execution_count": 5,
   "metadata": {},
   "outputs": [
    {
     "name": "stdout",
     "output_type": "stream",
     "text": [
      "<class 'pandas.core.frame.DataFrame'>\n",
      "Index: 4459 entries, 000d6aaf2 to ffeb15d25\n",
      "Columns: 4991 entries, 48df886f9 to 9fc776466\n",
      "dtypes: float64(1844), int64(3147)\n",
      "memory usage: 169.8+ MB\n"
     ]
    }
   ],
   "source": [
    "train_df.info()"
   ]
  },
  {
   "cell_type": "code",
   "execution_count": 6,
   "metadata": {},
   "outputs": [
    {
     "name": "stdout",
     "output_type": "stream",
     "text": [
      "<class 'pandas.core.frame.DataFrame'>\n",
      "Index: 49342 entries, 000137c73 to fffbe2f6f\n",
      "Columns: 4991 entries, 48df886f9 to 9fc776466\n",
      "dtypes: float64(4991)\n",
      "memory usage: 1.8+ GB\n"
     ]
    }
   ],
   "source": [
    "test_df.info()"
   ]
  },
  {
   "cell_type": "markdown",
   "metadata": {},
   "source": [
    "## Dataset Exploration:"
   ]
  },
  {
   "cell_type": "code",
   "execution_count": 7,
   "metadata": {},
   "outputs": [
    {
     "name": "stdout",
     "output_type": "stream",
     "text": [
      "Number of null values in training set: 0\n",
      "Number of null values in test set: 0\n"
     ]
    }
   ],
   "source": [
    "# Find number of null values \n",
    "print 'Number of null values in training set:', train_df.isnull().sum().sum()\n",
    "print 'Number of null values in test set:', test_df.isnull().sum().sum()"
   ]
  },
  {
   "cell_type": "code",
   "execution_count": 8,
   "metadata": {},
   "outputs": [],
   "source": [
    "# Find sparsity of dataset\n",
    "def how_sparse(df):\n",
    "    num_nonzero = df.astype(bool).sum(axis=0).sum()\n",
    "    return(100 * num_nonzero/float(df.shape[0] * df.shape[1]))"
   ]
  },
  {
   "cell_type": "code",
   "execution_count": 9,
   "metadata": {},
   "outputs": [
    {
     "name": "stdout",
     "output_type": "stream",
     "text": [
      "Sparsity of training data (in percent): 3.1458688882868735\n",
      "Sparsity of test data (in percent): 1.4052106649169267\n"
     ]
    }
   ],
   "source": [
    "print 'Sparsity of training data (in percent):', how_sparse(train_df)\n",
    "print 'Sparsity of test data (in percent):', how_sparse(test_df)"
   ]
  },
  {
   "cell_type": "code",
   "execution_count": 10,
   "metadata": {},
   "outputs": [],
   "source": [
    "# How many columns have constant values? \n",
    "def is_constant(df):\n",
    "    constant = []\n",
    "    for column in df.columns.values:\n",
    "        if len(df[column].unique()) == 1:\n",
    "            constant.append(column)\n",
    "    return(constant)"
   ]
  },
  {
   "cell_type": "code",
   "execution_count": 11,
   "metadata": {},
   "outputs": [
    {
     "name": "stdout",
     "output_type": "stream",
     "text": [
      "Number of columns with constant values in train dataset: 256\n",
      "Number of columns with constant values in test dataset: 0\n"
     ]
    }
   ],
   "source": [
    "print 'Number of columns with constant values in train dataset:', len(is_constant(train_df))\n",
    "print 'Number of columns with constant values in test dataset:', len(is_constant(test_df))"
   ]
  },
  {
   "cell_type": "markdown",
   "metadata": {},
   "source": [
    "Interestingly, there are 256 columns in the training dataset that have constant values while there are 0 columns in the test dataset. This behavior is most likely due to the test dataset having almost 10x more samples than the training dataset. During the data preprocessing stage, the 256 columns with constant values will need to be removed from both the training and test sets."
   ]
  },
  {
   "cell_type": "code",
   "execution_count": 12,
   "metadata": {},
   "outputs": [],
   "source": [
    "drop_cols = is_constant(train_df)"
   ]
  },
  {
   "cell_type": "code",
   "execution_count": 13,
   "metadata": {},
   "outputs": [],
   "source": [
    "# Drop constant columns\n",
    "train_df.drop(columns=drop_cols, axis=1, inplace=True)\n",
    "test_df.drop(columns=drop_cols, axis=1, inplace=True)"
   ]
  },
  {
   "cell_type": "code",
   "execution_count": 14,
   "metadata": {},
   "outputs": [
    {
     "name": "stdout",
     "output_type": "stream",
     "text": [
      "Shape of training dataset: 4459 Rows, 4735 Columns\n",
      "Shape of test dataset: 49342 Rows, 4735 Columns\n"
     ]
    }
   ],
   "source": [
    "print('Shape of training dataset: {} Rows, {} Columns'.format(*train_df.shape))\n",
    "print('Shape of test dataset: {} Rows, {} Columns'.format(*test_df.shape))"
   ]
  },
  {
   "cell_type": "code",
   "execution_count": 30,
   "metadata": {},
   "outputs": [],
   "source": [
    "# Finding duplicate columns\n",
    "def get_duplicates(df):\n",
    "    groups = df.columns.to_series().groupby(df.dtypes).groups\n",
    "    dups = []\n",
    "    \n",
    "    for t, v in groups.items():\n",
    "        cs = df[v].columns\n",
    "        vs = df[v]\n",
    "        lcs = len(cs)\n",
    "        \n",
    "        for i in range(lcs):\n",
    "            ia = vs.iloc[:, i].values\n",
    "            for j in range(i+1, lcs):\n",
    "                ja = vs.iloc[:, j].values\n",
    "                if np.array_equal(ia, ja):\n",
    "                    dups.append(cs[i])\n",
    "    return dups"
   ]
  },
  {
   "cell_type": "code",
   "execution_count": 32,
   "metadata": {},
   "outputs": [],
   "source": [
    "duplicate_cols = get_duplicates(train_df)"
   ]
  },
  {
   "cell_type": "code",
   "execution_count": 34,
   "metadata": {},
   "outputs": [
    {
     "name": "stdout",
     "output_type": "stream",
     "text": [
      "Duplicate columns:\n",
      "set(['8d57e2749', '34ceb0081', '168b3e5bc', 'a765da8bc', 'acc5b709d'])\n"
     ]
    }
   ],
   "source": [
    "print 'Duplicate columns:\\n', set(duplicate_cols)"
   ]
  },
  {
   "cell_type": "code",
   "execution_count": 35,
   "metadata": {},
   "outputs": [],
   "source": [
    "# Remove duplicate columns\n",
    "train_df.drop(list(set(duplicate_cols)), axis=1, inplace=True)\n",
    "test_df.drop(list(set(duplicate_cols)), axis=1, inplace=True)"
   ]
  },
  {
   "cell_type": "code",
   "execution_count": 36,
   "metadata": {},
   "outputs": [
    {
     "name": "stdout",
     "output_type": "stream",
     "text": [
      "Shape of training dataset: 4459 Rows, 4730 Columns\n",
      "Shape of test dataset: 49342 Rows, 4730 Columns\n"
     ]
    }
   ],
   "source": [
    "print('Shape of training dataset: {} Rows, {} Columns'.format(*train_df.shape))\n",
    "print('Shape of test dataset: {} Rows, {} Columns'.format(*test_df.shape))"
   ]
  },
  {
   "cell_type": "markdown",
   "metadata": {},
   "source": [
    "### Correlation Analysis:"
   ]
  },
  {
   "cell_type": "code",
   "execution_count": 37,
   "metadata": {},
   "outputs": [],
   "source": [
    "label_df = pd.DataFrame(data=labels)\n",
    "labeled_train = pd.concat([train_df, label_df], axis=1)\n",
    "train_corr = labeled_train.corr()"
   ]
  },
  {
   "cell_type": "code",
   "execution_count": 38,
   "metadata": {},
   "outputs": [
    {
     "data": {
      "text/plain": [
       "555f18bd3    0.273379\n",
       "9fd594eec    0.270019\n",
       "5bc7ab64f    0.267858\n",
       "cbbc9c431    0.265005\n",
       "f190486d6    0.263821\n",
       "6b119d8ce    0.258290\n",
       "f74e8f13d    0.257238\n",
       "ac30af84a    0.256292\n",
       "26fc93eb7    0.255186\n",
       "58e2e02e6    0.254984\n",
       "Name: target, dtype: float64"
      ]
     },
     "metadata": {},
     "output_type": "display_data"
    }
   ],
   "source": [
    "# Features most highly correlated with the label\n",
    "display(train_corr['target'].sort_values(ascending=False)[1:11])"
   ]
  },
  {
   "cell_type": "markdown",
   "metadata": {},
   "source": [
    "The list of features above are the training features that are most-correlated with the training labels. Intuitively, I expect these features to be the most important ones."
   ]
  },
  {
   "cell_type": "code",
   "execution_count": 43,
   "metadata": {},
   "outputs": [],
   "source": [
    "# Save h5 files\n",
    "def saveh5(fname, data, dname):\n",
    "    h5f = h5py.File(fname, 'w')\n",
    "    h5f.create_dataset(dname, data=data)\n",
    "    h5f.close()\n",
    "    return None"
   ]
  },
  {
   "cell_type": "code",
   "execution_count": 52,
   "metadata": {},
   "outputs": [],
   "source": [
    "# Save pickle file\n",
    "def savepickle(fname, data):\n",
    "    with open(fname, 'wb') as handle:\n",
    "        pkl.dump(data, handle)"
   ]
  },
  {
   "cell_type": "code",
   "execution_count": 55,
   "metadata": {},
   "outputs": [],
   "source": [
    "# Save preprocessed dataset (constant columns and duplicate columns removed):\n",
    "saveh5('../data/train_s0_vanilla.h5', labeled_train, 'train_s0')\n",
    "saveh5('../data/test_s0_vanilla.h5', test_df, 'test_s0')"
   ]
  },
  {
   "cell_type": "code",
   "execution_count": 53,
   "metadata": {},
   "outputs": [],
   "source": [
    "# Save training and test indexes\n",
    "savepickle('../data/train_idx.pkl', labeled_train.index.values)\n",
    "savepickle('../data/test_idx.pkl', test_df.index.values)"
   ]
  },
  {
   "cell_type": "code",
   "execution_count": 54,
   "metadata": {},
   "outputs": [],
   "source": [
    "# Save training and test column names\n",
    "savepickle('../data/train_cols.pkl', labeled_train.columns.values)\n",
    "savepickle('../data/test_cols.pkl', test_df.columns.values)"
   ]
  },
  {
   "cell_type": "markdown",
   "metadata": {},
   "source": [
    "### PCA:\n",
    "Performing PCA on the combined training and test set will allow me to visualize the percentage of variance explained for all features in the dataset. By determining which features don't contribute much information, I can further trim the size of the dataset."
   ]
  },
  {
   "cell_type": "code",
   "execution_count": 46,
   "metadata": {},
   "outputs": [
    {
     "name": "stdout",
     "output_type": "stream",
     "text": [
      "Shape of all data: 53801 Rows, 4730 Columns\n"
     ]
    }
   ],
   "source": [
    "all_data = pd.concat([train_df, test_df], axis=0)\n",
    "print('Shape of all data: {} Rows, {} Columns'.format(*all_data.shape))"
   ]
  },
  {
   "cell_type": "code",
   "execution_count": 47,
   "metadata": {},
   "outputs": [
    {
     "data": {
      "text/plain": [
       "PCA(copy=True, iterated_power='auto', n_components=None, random_state=None,\n",
       "  svd_solver='auto', tol=0.0, whiten=False)"
      ]
     },
     "execution_count": 47,
     "metadata": {},
     "output_type": "execute_result"
    }
   ],
   "source": [
    "# Fit PCA model\n",
    "pca = PCA()\n",
    "pca.fit(all_data)"
   ]
  },
  {
   "cell_type": "code",
   "execution_count": 48,
   "metadata": {},
   "outputs": [],
   "source": [
    "ratios = np.cumsum(pca.explained_variance_ratio_)"
   ]
  },
  {
   "cell_type": "code",
   "execution_count": 49,
   "metadata": {},
   "outputs": [
    {
     "data": {
      "image/png": "[encoded data removed]",
      "text/plain": [
       "<matplotlib.figure.Figure at 0x12e41f6d0>"
      ]
     },
     "metadata": {},
     "output_type": "display_data"
    }
   ],
   "source": [
    "plt.figure(figsize=(10, 8))\n",
    "plt.plot(ratios)\n",
    "plt.title('Explained Variance Plot for All Data')\n",
    "plt.xlabel('Number of Components')\n",
    "plt.yticks(np.arange(0, 1.2, step=0.1))\n",
    "plt.grid(True)\n",
    "plt.show()"
   ]
  },
  {
   "cell_type": "markdown",
   "metadata": {},
   "source": [
    "The plot of explained variance for both train and test data show that the first **3000** features account for 95% of the variance in both datasets. This will be information that I'll use in subsequent preprocessing efforts. "
   ]
  },
  {
   "cell_type": "markdown",
   "metadata": {},
   "source": [
    "### Distribution of Training Labels:"
   ]
  },
  {
   "cell_type": "code",
   "execution_count": 50,
   "metadata": {},
   "outputs": [
    {
     "data": {
      "image/png": "[encoded data removed]",
      "text/plain": [
       "<matplotlib.figure.Figure at 0x12e41f650>"
      ]
     },
     "metadata": {},
     "output_type": "display_data"
    }
   ],
   "source": [
    "plt.figure(figsize=(10, 6))\n",
    "sns.distplot(np.log1p(labels), color='green', kde=True, bins=100)\n",
    "plt.title('Distribution of log(target) Values')\n",
    "plt.xlabel('log(target)')\n",
    "plt.show()"
   ]
  },
  {
   "cell_type": "code",
   "execution_count": null,
   "metadata": {},
   "outputs": [],
   "source": []
  }
 ],
 "metadata": {
  "kernelspec": {
   "display_name": "Python 2",
   "language": "python",
   "name": "python2"
  },
  "language_info": {
   "codemirror_mode": {
    "name": "ipython",
    "version": 2
   },
   "file_extension": ".py",
   "mimetype": "text/x-python",
   "name": "python",
   "nbconvert_exporter": "python",
   "pygments_lexer": "ipython2",
   "version": "2.7.14"
  }
 },
 "nbformat": 4,
 "nbformat_minor": 2
}
